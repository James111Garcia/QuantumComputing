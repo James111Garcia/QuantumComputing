{
 "cells": [
  {
   "cell_type": "markdown",
   "id": "c8313a4e",
   "metadata": {},
   "source": [
    "# Universality of single qubit gates\n",
    "https://pennylane.ai/challenges/universality_of_single_qubit_gates"
   ]
  },
  {
   "cell_type": "code",
   "execution_count": 1,
   "id": "0e1a3cbe",
   "metadata": {},
   "outputs": [],
   "source": [
    "import json\n",
    "import pennylane as qml\n",
    "import pennylane.numpy as np\n",
    "np.random.seed(1967)\n",
    "\n",
    "def get_matrix(params):\n",
    "    \"\"\"\n",
    "    Args:\n",
    "        - params (array): The four parameters of the model.\n",
    "        \n",
    "    Returns:\n",
    "        - (matrix): The associated matrix to these parameters.\n",
    "    \"\"\"\n",
    "\n",
    "    alpha, beta, gamma, phi = params\n",
    "\n",
    "    # Get the rotation matrix for each induvidual axis with its given angle\n",
    "    Rzg = qml.matrix(qml.RZ(gamma, wires=0))\n",
    "    Rxb = qml.matrix(qml.RX(beta, wires=0))\n",
    "    Rza = qml.matrix(qml.RZ(alpha, wires=0))\n",
    "    \n",
    "    # Combine the 3 rotations to make the overall rotation matrix\n",
    "    matrix = np.exp(1j*phi)*Rzg@Rxb@Rza\n",
    "    return matrix"
   ]
  },
  {
   "cell_type": "code",
   "execution_count": 2,
   "id": "535e9d39",
   "metadata": {},
   "outputs": [],
   "source": [
    "def error(U, params):\n",
    "    \"\"\"\n",
    "    This function determines the similarity between your generated matrix and\n",
    "    the target unitary.\n",
    "\n",
    "    Args:\n",
    "        - U (np.array): Goal matrix that we want to approach.\n",
    "        - params (array): The four parameters of the model.\n",
    "\n",
    "    Returns:\n",
    "        - (float): Error associated with the quality of the solution.\n",
    "    \"\"\"\n",
    "\n",
    "    matrix = get_matrix(params)\n",
    "\n",
    "    error = np.abs(U - matrix).sum()\n",
    "    \n",
    "    return error"
   ]
  },
  {
   "cell_type": "code",
   "execution_count": 3,
   "id": "641071d1",
   "metadata": {},
   "outputs": [],
   "source": [
    "def train_parameters(U):\n",
    "    epochs = 1000\n",
    "    lr = 0.01\n",
    "\n",
    "    grad = qml.grad(error, argnum=1)\n",
    "    params = np.random.rand(4) * np.pi\n",
    "\n",
    "    for epoch in range(epochs):\n",
    "        params -= lr * grad(U, params)\n",
    "\n",
    "    return params"
   ]
  },
  {
   "cell_type": "markdown",
   "id": "490ad695",
   "metadata": {},
   "source": [
    "### These functions are responsible for testing the solution."
   ]
  },
  {
   "cell_type": "code",
   "execution_count": 4,
   "id": "d683c129",
   "metadata": {},
   "outputs": [
    {
     "name": "stdout",
     "output_type": "stream",
     "text": [
      "Running test case 0 with input '[[ 0.70710678,  0.70710678], [ 0.70710678, -0.70710678]]'...\n",
      "Correct!\n",
      "Running test case 1 with input '[[ 1,  0], [ 0, -1]]'...\n",
      "Correct!\n"
     ]
    }
   ],
   "source": [
    "def run(test_case_input: str) -> str:\n",
    "    matrix = json.loads(test_case_input)\n",
    "    params = [float(p) for p in train_parameters(matrix)]\n",
    "    return json.dumps(params)\n",
    "\n",
    "\n",
    "def check(solution_output: str, expected_output: str) -> None:\n",
    "    matrix1 = get_matrix(json.loads(solution_output))\n",
    "    matrix2 = json.loads(expected_output)\n",
    "    assert not np.allclose(get_matrix(np.random.rand(4)), get_matrix(np.random.rand(4)))\n",
    "    assert np.allclose(matrix1, matrix2, atol=0.2)\n",
    "\n",
    "# These are the public test cases\n",
    "test_cases = [\n",
    "    ('[[ 0.70710678,  0.70710678], [ 0.70710678, -0.70710678]]', '[[ 0.70710678,  0.70710678], [ 0.70710678, -0.70710678]]'),\n",
    "    ('[[ 1,  0], [ 0, -1]]', '[[ 1,  0], [ 0, -1]]')\n",
    "]\n",
    "# This will run the public test cases locally\n",
    "for i, (input_, expected_output) in enumerate(test_cases):\n",
    "    print(f\"Running test case {i} with input '{input_}'...\")\n",
    "\n",
    "    try:\n",
    "        output = run(input_)\n",
    "\n",
    "    except Exception as exc:\n",
    "        print(f\"Runtime Error. {exc}\")\n",
    "\n",
    "    else:\n",
    "        if message := check(output, expected_output):\n",
    "            print(f\"Wrong Answer. Have: '{output}'. Want: '{expected_output}'.\")\n",
    "\n",
    "        else:\n",
    "            print(\"Correct!\")"
   ]
  }
 ],
 "metadata": {
  "kernelspec": {
   "display_name": "Python 3 (ipykernel)",
   "language": "python",
   "name": "python3"
  },
  "language_info": {
   "codemirror_mode": {
    "name": "ipython",
    "version": 3
   },
   "file_extension": ".py",
   "mimetype": "text/x-python",
   "name": "python",
   "nbconvert_exporter": "python",
   "pygments_lexer": "ipython3",
   "version": "3.10.9"
  }
 },
 "nbformat": 4,
 "nbformat_minor": 5
}
