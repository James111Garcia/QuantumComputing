{
 "cells": [
  {
   "cell_type": "markdown",
   "id": "c25a8f15",
   "metadata": {},
   "source": [
    "# Mid-Circuit Measurements\n",
    "https://pennylane.ai/challenges/mid_circuit_measurements"
   ]
  },
  {
   "cell_type": "code",
   "execution_count": 5,
   "id": "ad71d965",
   "metadata": {},
   "outputs": [],
   "source": [
    "import json\n",
    "import pennylane as qml\n",
    "import pennylane.numpy as np\n",
    "n_qubits = 4\n",
    "dev = qml.device(\"default.qubit\", wires=n_qubits)\n",
    "\n",
    "@qml.qnode(dev)\n",
    "def circuit(angles):\n",
    "    \"\"\"A quantum circuit made from the quantum function U.\n",
    "\n",
    "    Args:\n",
    "        angles (list(float)): A list of angles containing theta_0, theta_1, theta_2, and theta_3 in that order. \n",
    "    Returns:\n",
    "        (numpy.tensor): The probability of the fourth qubit.\n",
    "    \"\"\"\n",
    "\n",
    "    # My Code #\n",
    "    qml.broadcast(qml.Hadamard,wires=[0,1,2,3],pattern = 'single')\n",
    "    qml.RX(angles[0], wires=0)\n",
    "    qml.CNOT([3,0])\n",
    "    qml.CNOT([1,2])\n",
    "    q0 = qml.measure(0)\n",
    "    q2 = qml.measure(2)\n",
    "    \n",
    "    q = q0 + q2\n",
    "    \n",
    "    qml.cond(q != 0, qml.U3)(angles[1], angles[2], angles[3], wires=3)\n",
    "    qml.PauliZ(3)\n",
    "    return qml.probs(wires=3)"
   ]
  },
  {
   "cell_type": "markdown",
   "id": "4c5fc82c",
   "metadata": {},
   "source": [
    "### These functions are responsible for testing the solution."
   ]
  },
  {
   "cell_type": "code",
   "execution_count": 6,
   "id": "fbe30a4a",
   "metadata": {},
   "outputs": [
    {
     "name": "stdout",
     "output_type": "stream",
     "text": [
      "Running test case 0 with input '[1.0, 1.5, 2.0, 2.5]'...\n",
      "Correct!\n"
     ]
    }
   ],
   "source": [
    "def run(test_case_input: str) -> str:\n",
    "    angles = json.loads(test_case_input)\n",
    "    output = circuit(angles).tolist()\n",
    "    return str(output)\n",
    "\n",
    "def check(solution_output: str, expected_output: str) -> None:\n",
    "    solution_output = json.loads(solution_output)\n",
    "    expected_output = json.loads(expected_output)\n",
    "\n",
    "    assert np.allclose(solution_output, expected_output, rtol=1e-4)\n",
    "\n",
    "# These are the public test cases\n",
    "test_cases = [\n",
    "    ('[1.0, 1.5, 2.0, 2.5]', '[0.79967628, 0.20032372]')\n",
    "]\n",
    "# This will run the public test cases locally\n",
    "for i, (input_, expected_output) in enumerate(test_cases):\n",
    "    print(f\"Running test case {i} with input '{input_}'...\")\n",
    "\n",
    "    try:\n",
    "        output = run(input_)\n",
    "\n",
    "    except Exception as exc:\n",
    "        print(f\"Runtime Error. {exc}\")\n",
    "\n",
    "    else:\n",
    "        if message := check(output, expected_output):\n",
    "            print(f\"Wrong Answer. Have: '{output}'. Want: '{expected_output}'.\")\n",
    "\n",
    "        else:\n",
    "            print(\"Correct!\")"
   ]
  }
 ],
 "metadata": {
  "kernelspec": {
   "display_name": "Python 3 (ipykernel)",
   "language": "python",
   "name": "python3"
  },
  "language_info": {
   "codemirror_mode": {
    "name": "ipython",
    "version": 3
   },
   "file_extension": ".py",
   "mimetype": "text/x-python",
   "name": "python",
   "nbconvert_exporter": "python",
   "pygments_lexer": "ipython3",
   "version": "3.10.9"
  }
 },
 "nbformat": 4,
 "nbformat_minor": 5
}
