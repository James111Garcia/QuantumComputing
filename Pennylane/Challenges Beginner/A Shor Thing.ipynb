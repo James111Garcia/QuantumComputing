{
 "cells": [
  {
   "cell_type": "markdown",
   "id": "7edf1039",
   "metadata": {},
   "source": [
    "# A Shor Thing\n",
    "https://pennylane.ai/challenges/a_shor_thing"
   ]
  },
  {
   "cell_type": "code",
   "execution_count": 1,
   "id": "a429bb62",
   "metadata": {},
   "outputs": [],
   "source": [
    "import json\n",
    "import pennylane as qml\n",
    "import pennylane.numpy as np\n",
    "n_qubits = 9\n",
    "dev = qml.device(\"default.qubit\", wires=n_qubits)\n",
    "error_dict = {0: 'PauliX', 1: 'PauliY', 2: 'PauliZ'}\n",
    "\n",
    "def error(error_key, qubit):\n",
    "    \"\"\"Defines the error that is induced in the circuit.\n",
    "\n",
    "    Args:\n",
    "        error_key (int): An integer associated to the type of error (Pauli X, Y, or Z)\n",
    "        qubit (int): The qubit that the error occurs on.\n",
    "    \"\"\"\n",
    "    getattr(qml, error_dict[error_key])(qubit)"
   ]
  },
  {
   "cell_type": "code",
   "execution_count": 2,
   "id": "b3695a72",
   "metadata": {},
   "outputs": [],
   "source": [
    "@qml.qnode(dev)\n",
    "def shor(state, error_key, qubit):\n",
    "    \"\"\"A circuit defining Shor's code for error correction.\n",
    "\n",
    "    Args:\n",
    "        state (list(float)): The quantum state of the first qubit in the circuit.\n",
    "        error_key (int): An integer associated to the type of error (Pauli X, Y, or Z)\n",
    "        qubit (int): The qubit that the error occurs on.\n",
    "\n",
    "    Returns:\n",
    "        (list(float)): The expectation value of the Pauli Z operator on every qubit.\n",
    "    \"\"\"\n",
    "    qml.StatePrep(np.array(state), wires=0)\n",
    "\n",
    "    qml.CNOT([0,3])\n",
    "    qml.CNOT([0,6])\n",
    "    #qml.broadcast(qml.Hadamard,wires=[0,3,6],pattern=\"single\")\n",
    "    qml.Hadamard(0)\n",
    "    qml.Hadamard(3)\n",
    "    qml.Hadamard(6)\n",
    "    qml.CNOT([0,1])\n",
    "    qml.CNOT([0,2])\n",
    "    qml.CNOT([3,4])\n",
    "    qml.CNOT([3,5])\n",
    "    qml.CNOT([6,7])\n",
    "    qml.CNOT([6,8])\n",
    "    error(error_key,qubit)\n",
    "    qml.CNOT([0,1])\n",
    "    qml.CNOT([0,2])\n",
    "    qml.CNOT([3,4])\n",
    "    qml.CNOT([3,5])\n",
    "    qml.CNOT([6,7])\n",
    "    qml.CNOT([6,8])\n",
    "    qml.Toffoli([1,2,0])\n",
    "    qml.Toffoli([4,5,3])\n",
    "    qml.Toffoli([7,8,6])\n",
    "    qml.Hadamard(0)\n",
    "    qml.Hadamard(3)\n",
    "    qml.Hadamard(6)\n",
    "    qml.CNOT([0,3])\n",
    "    qml.CNOT([0,6])\n",
    "    qml.Toffoli([3,6,0])\n",
    "\n",
    "    return [qml.expval(qml.PauliZ(i)) for i in range(n_qubits)]"
   ]
  },
  {
   "cell_type": "markdown",
   "id": "4b2afdc8",
   "metadata": {},
   "source": [
    "### These functions are responsible for testing the solution."
   ]
  },
  {
   "cell_type": "code",
   "execution_count": 3,
   "id": "14899481",
   "metadata": {},
   "outputs": [
    {
     "name": "stdout",
     "output_type": "stream",
     "text": [
      "Running test case 0 with input '[[0, 1], 0, 3]'...\n",
      "Correct!\n"
     ]
    }
   ],
   "source": [
    "def run(test_case_input: str) -> str:\n",
    "    state, error_key, qubit = json.loads(test_case_input)\n",
    "    output = [shor(state, error_key, qubit)[i] for i in dev.wires]\n",
    "\n",
    "    return str(output)\n",
    "\n",
    "def check(solution_output: str, expected_output: str) -> None:\n",
    "    solution_output = json.loads(solution_output)\n",
    "    expected_output = json.loads(expected_output)\n",
    "\n",
    "    assert np.allclose(solution_output, expected_output, rtol=1e-4), \"Incorrect result for expectation values.\"\n",
    "\n",
    "# These are the public test cases\n",
    "test_cases = [\n",
    "    ('[[0, 1], 0, 3]', '[-1.0,  1.0,  1.0,  1.0, -1.0, -1.0,  1.0,  1.0,  1.0]')\n",
    "]\n",
    "# This will run the public test cases locally\n",
    "for i, (input_, expected_output) in enumerate(test_cases):\n",
    "    print(f\"Running test case {i} with input '{input_}'...\")\n",
    "\n",
    "    try:\n",
    "        output = run(input_)\n",
    "\n",
    "    except Exception as exc:\n",
    "        print(f\"Runtime Error. {exc}\")\n",
    "\n",
    "    else:\n",
    "        if message := check(output, expected_output):\n",
    "            print(f\"Wrong Answer. Have: '{output}'. Want: '{expected_output}'.\")\n",
    "\n",
    "        else:\n",
    "            print(\"Correct!\")"
   ]
  }
 ],
 "metadata": {
  "kernelspec": {
   "display_name": "Python 3 (ipykernel)",
   "language": "python",
   "name": "python3"
  },
  "language_info": {
   "codemirror_mode": {
    "name": "ipython",
    "version": 3
   },
   "file_extension": ".py",
   "mimetype": "text/x-python",
   "name": "python",
   "nbconvert_exporter": "python",
   "pygments_lexer": "ipython3",
   "version": "3.10.9"
  }
 },
 "nbformat": 4,
 "nbformat_minor": 5
}
