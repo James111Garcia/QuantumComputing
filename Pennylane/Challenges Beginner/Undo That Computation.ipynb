{
 "cells": [
  {
   "cell_type": "markdown",
   "id": "4a9ad750",
   "metadata": {},
   "source": [
    "# Undo That Computation\n",
    "https://pennylane.ai/challenges/undo_that_computation"
   ]
  },
  {
   "cell_type": "code",
   "execution_count": 4,
   "id": "7326f1e4",
   "metadata": {},
   "outputs": [],
   "source": [
    "import json\n",
    "import pennylane as qml\n",
    "import pennylane.numpy as np\n",
    "dev = qml.device(\"default.qubit\", wires=3)\n",
    "\n",
    "@qml.qnode(dev)\n",
    "def AND(j, k):\n",
    "    \"\"\"Implements the AND gate using quantum gates and computes j AND k.\n",
    "\n",
    "    Args:\n",
    "        j (int): A classical bit, either 0 or 1. \n",
    "        k (int): A classical bit, either 0 or 1. \n",
    "\n",
    "    Returns:\n",
    "        float: The probabilities of measurement on wire 0.\n",
    "    \"\"\"\n",
    "\n",
    "    if j == 1:\n",
    "        qml.PauliX(wires=1)\n",
    "    if k == 1:\n",
    "        qml.PauliX(wires=2)\n",
    "\n",
    "    # My Code #\n",
    "    qml.Hadamard(2)\n",
    "    qml.ctrl(qml.PauliZ, control =[0, 1])(wires = [2])\n",
    "        \n",
    "\n",
    "    qml.Hadamard(2)\n",
    "    qml.ctrl(qml.PauliX, control =[1, 2])(wires = [0])\n",
    "    return qml.probs(wires=0)"
   ]
  },
  {
   "cell_type": "markdown",
   "id": "bba787a8",
   "metadata": {},
   "source": [
    "### These functions are responsible for testing the solution."
   ]
  },
  {
   "cell_type": "code",
   "execution_count": 5,
   "id": "68b121a0",
   "metadata": {},
   "outputs": [
    {
     "name": "stdout",
     "output_type": "stream",
     "text": [
      "Running test case 0 with input '[0, 0]'...\n",
      "Correct!\n",
      "Running test case 1 with input '[1, 1]'...\n",
      "Correct!\n"
     ]
    }
   ],
   "source": [
    "def run(test_case_input: str) -> str:\n",
    "    j, k = json.loads(test_case_input)\n",
    "    output = AND(j, k).tolist()\n",
    "\n",
    "    return str(output)\n",
    "\n",
    "def check(solution_output: str, expected_output: str) -> None:\n",
    "    solution_output = json.loads(solution_output)\n",
    "    expected_output = json.loads(expected_output)\n",
    "    assert np.allclose(solution_output, expected_output, rtol=1e-4), \"Your classical operation isn't behaving correctly!\"\n",
    "\n",
    "# These are the public test cases\n",
    "test_cases = [\n",
    "    ('[0, 0]', '[1, 0]'),\n",
    "    ('[1, 1]', '[0, 1]')\n",
    "]\n",
    "# This will run the public test cases locally\n",
    "for i, (input_, expected_output) in enumerate(test_cases):\n",
    "    print(f\"Running test case {i} with input '{input_}'...\")\n",
    "\n",
    "    try:\n",
    "        output = run(input_)\n",
    "\n",
    "    except Exception as exc:\n",
    "        print(f\"Runtime Error. {exc}\")\n",
    "\n",
    "    else:\n",
    "        if message := check(output, expected_output):\n",
    "            print(f\"Wrong Answer. Have: '{output}'. Want: '{expected_output}'.\")\n",
    "\n",
    "        else:\n",
    "            print(\"Correct!\")\n",
    "import pennylane.numpy as np"
   ]
  }
 ],
 "metadata": {
  "kernelspec": {
   "display_name": "Python 3 (ipykernel)",
   "language": "python",
   "name": "python3"
  },
  "language_info": {
   "codemirror_mode": {
    "name": "ipython",
    "version": 3
   },
   "file_extension": ".py",
   "mimetype": "text/x-python",
   "name": "python",
   "nbconvert_exporter": "python",
   "pygments_lexer": "ipython3",
   "version": "3.10.9"
  }
 },
 "nbformat": 4,
 "nbformat_minor": 5
}
