{
 "cells": [
  {
   "cell_type": "markdown",
   "id": "d4bb0352",
   "metadata": {},
   "source": [
    "# My First Quantum Simulation\n",
    "https://pennylane.ai/challenges/my_first_quantum_simulation"
   ]
  },
  {
   "cell_type": "code",
   "execution_count": 1,
   "id": "8bbbd2ae",
   "metadata": {},
   "outputs": [],
   "source": [
    "import json\n",
    "import numpy as np\n",
    "def initialize_state():\n",
    "    \"\"\"\n",
    "    Prepare a qubit in state |0>.\n",
    "\n",
    "    Returns:\n",
    "        array[float]: the vector representation of state |0>.\n",
    "    \"\"\"\n",
    "\n",
    "    q = np.array([1,0])\n",
    "    return q"
   ]
  },
  {
   "cell_type": "code",
   "execution_count": 2,
   "id": "01f884c6",
   "metadata": {},
   "outputs": [],
   "source": [
    "def apply_u(U, state):\n",
    "    \"\"\"\n",
    "    Apply the quantum operation U on the state\n",
    "\n",
    "    Args:\n",
    "        U (np.array(array(complex))): A (2,2) numpy array with complex entries \n",
    "        representing a unitary matrix.\n",
    "        state (np.array(complex)): A (2,) numpy array with complex entries \n",
    "        representing a quantum state.\n",
    "    \n",
    "    Returns:\n",
    "        (np.array(complex)): The state vector after applying U to state.\n",
    "    \"\"\"\n",
    "\n",
    "    return U@state"
   ]
  },
  {
   "cell_type": "code",
   "execution_count": 3,
   "id": "68d84407",
   "metadata": {},
   "outputs": [],
   "source": [
    "def measure_state(state, num_meas):\n",
    "    \"\"\"\n",
    "    Measure a quantum state num_meas times.\n",
    "\n",
    "    Args:\n",
    "        state (np.array(complex)): A (2,) numpy array with complex entries\n",
    "        representing a quantum state.\n",
    "        num_meas(float): The number of computational basis measurements on state.\n",
    "        \n",
    "    Returns:\n",
    "        (np.array(int)) A (num_meas,) numpy array of zeros and ones, representing\n",
    "        measurement outcomes on the state\n",
    "    \"\"\"\n",
    "\n",
    "    p0 = np.abs(state[0])**2\n",
    "    p1 = np.abs(state[1])**2\n",
    "\n",
    "    measurements = np.random.choice([0,1], size=num_meas, p=[p0,p1])\n",
    "    return measurements"
   ]
  },
  {
   "cell_type": "code",
   "execution_count": 4,
   "id": "e9343d32",
   "metadata": {},
   "outputs": [],
   "source": [
    "def quantum_algorithm(U):\n",
    "    \"\"\"\n",
    "    Use the functions above to implement the quantum algorithm described above.\n",
    "\n",
    "    Try and do so using three lines of code or less!\n",
    "\n",
    "    Args:\n",
    "        U (np.array(array(complex))): A (2,2) numpy array with complex entries\n",
    "        representing a unitary matrix.\n",
    "\n",
    "    Returns:\n",
    "        np.array(int): the measurement results after running the algorithm 20 times\n",
    "    \"\"\"\n",
    "\n",
    "    q = np.array([1,0])\n",
    "    state = U@q\n",
    "    return np.random.choice([0,1], size=20, p=[np.abs(state[0])**2,np.abs(state[1])**2])"
   ]
  },
  {
   "cell_type": "markdown",
   "id": "3199553c",
   "metadata": {},
   "source": [
    "### These functions are responsible for testing the solution."
   ]
  },
  {
   "cell_type": "code",
   "execution_count": 5,
   "id": "2a506723",
   "metadata": {},
   "outputs": [
    {
     "name": "stdout",
     "output_type": "stream",
     "text": [
      "Running test case 0 with input '[[0.70710678,  0.70710678], [0.70710678, -0.70710678]]'...\n",
      "Correct!\n",
      "Running test case 1 with input '[[0.8660254, -0.5],[0.5, 0.8660254]]'...\n",
      "Correct!\n"
     ]
    }
   ],
   "source": [
    "def run(test_case_input: str) -> str:\n",
    "    np.random.seed(0)\n",
    "    ins = json.loads(test_case_input)\n",
    "    output = quantum_algorithm(ins).tolist()\n",
    "    return str(output)\n",
    "\n",
    "\n",
    "def check(solution_output: str, expected_output: str) -> None:\n",
    "    \n",
    "    solution_output = json.loads(solution_output)\n",
    "    expected_output = json.loads(expected_output)\n",
    "    \n",
    "    initial_state = initialize_state()\n",
    "\n",
    "    assert isinstance(\n",
    "        initial_state, np.ndarray\n",
    "    ), \"The output of your initialize_state function should be a numpy array\"\n",
    "\n",
    "    assert np.allclose(\n",
    "        initial_state, np.array([1, 0])\n",
    "    ), \"The output of your initialize_state function isn't quite right\"\n",
    "\n",
    "    U_test = [[0.70710678, 0.70710678], [0.70710678, -0.70710678]]\n",
    "\n",
    "    assert np.allclose(\n",
    "        apply_u(U_test, np.array([1, 0])), [0.70710678, 0.70710678]\n",
    "    ), \"Your output of apply_u isn't quite right\"\n",
    "\n",
    "    sample_list = measure_state([0.70710678, 0.70710678], 100).tolist()\n",
    "\n",
    "    assert (\n",
    "        sample_list.count(0) + sample_list.count(1) == 100\n",
    "    ), \"Your measure_state function isn't quite right\"\n",
    "\n",
    "    sample_list_2 = quantum_algorithm(U_test).tolist()\n",
    "\n",
    "    assert (\n",
    "        sample_list_2.count(0) + sample_list_2.count(1) == 20\n",
    "    ), \"Your quantum_algorithm function isn't quite right\"\n",
    "    \n",
    "    assert np.allclose(solution_output, expected_output)\n",
    "\n",
    "# These are the public test cases\n",
    "test_cases = [\n",
    "    ('[[0.70710678,  0.70710678], [0.70710678, -0.70710678]]', '[1, 1, 1, 1, 0, 1, 0, 1, 1, 0, 1, 1, 1, 1, 0, 0, 0, 1, 1, 1]'),\n",
    "    ('[[0.8660254, -0.5],[0.5, 0.8660254]]', '[0, 0, 0, 0, 0, 0, 0, 1, 1, 0, 1, 0, 0, 1, 0, 0, 0, 1, 1, 1]')\n",
    "]\n",
    "# This will run the public test cases locally\n",
    "for i, (input_, expected_output) in enumerate(test_cases):\n",
    "    print(f\"Running test case {i} with input '{input_}'...\")\n",
    "\n",
    "    try:\n",
    "        output = run(input_)\n",
    "\n",
    "    except Exception as exc:\n",
    "        print(f\"Runtime Error. {exc}\")\n",
    "\n",
    "    else:\n",
    "        if message := check(output, expected_output):\n",
    "            print(f\"Wrong Answer. Have: '{output}'. Want: '{expected_output}'.\")\n",
    "\n",
    "        else:\n",
    "            print(\"Correct!\")"
   ]
  }
 ],
 "metadata": {
  "kernelspec": {
   "display_name": "Python 3 (ipykernel)",
   "language": "python",
   "name": "python3"
  },
  "language_info": {
   "codemirror_mode": {
    "name": "ipython",
    "version": 3
   },
   "file_extension": ".py",
   "mimetype": "text/x-python",
   "name": "python",
   "nbconvert_exporter": "python",
   "pygments_lexer": "ipython3",
   "version": "3.10.9"
  }
 },
 "nbformat": 4,
 "nbformat_minor": 5
}
