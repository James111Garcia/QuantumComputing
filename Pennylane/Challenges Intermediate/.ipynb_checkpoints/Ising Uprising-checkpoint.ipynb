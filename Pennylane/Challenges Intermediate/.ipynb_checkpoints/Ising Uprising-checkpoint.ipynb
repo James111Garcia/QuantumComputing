{
 "cells": [
  {
   "cell_type": "markdown",
   "id": "fdd1cb5c",
   "metadata": {},
   "source": [
    "# Ising Uprising\n",
    "https://pennylane.ai/challenges/ising_uprising"
   ]
  },
  {
   "cell_type": "code",
   "execution_count": 148,
   "id": "22e5465d",
   "metadata": {},
   "outputs": [],
   "source": [
    "import json\n",
    "import pennylane as qml\n",
    "import pennylane.numpy as np"
   ]
  },
  {
   "cell_type": "code",
   "execution_count": 149,
   "id": "2f714656",
   "metadata": {},
   "outputs": [],
   "source": [
    "def create_Hamiltonian(h):\n",
    "    \"\"\"\n",
    "    Function in charge of generating the Hamiltonian of the statement.\n",
    "\n",
    "    Args:\n",
    "        h (float): magnetic field strength\n",
    "\n",
    "    Returns:\n",
    "        (qml.Hamiltonian): Hamiltonian of the statement associated to h\n",
    "    \"\"\"\n",
    "    \n",
    "    coef=[]\n",
    "    ops=[]\n",
    "    N=4\n",
    "    \n",
    "    for i in range(N-1):\n",
    "        coef.append(-1)\n",
    "        ops.append(qml.PauliZ(i) @ qml.PauliZ(i+1))\n",
    "        \n",
    "    coef.append(-1)\n",
    "    ops.append(qml.PauliZ(3) @ qml.PauliZ(0))\n",
    "    \n",
    "    for i in range(N):\n",
    "        coef.append(-1*h)\n",
    "        ops.append(qml.PauliX(i))\n",
    "    \n",
    "    return qml.Hamiltonian(coef,ops)"
   ]
  },
  {
   "cell_type": "code",
   "execution_count": 150,
   "id": "713a3d7b",
   "metadata": {},
   "outputs": [],
   "source": [
    "dev = qml.device(\"default.qubit\", wires=4)\n",
    "\n",
    "@qml.qnode(dev)\n",
    "def model(params, H):\n",
    "    \"\"\"\n",
    "    To implement VQE you need an ansatz for the candidate ground state!\n",
    "    Define here the VQE ansatz in terms of some parameters (params) that\n",
    "    create the candidate ground state. These parameters will\n",
    "    be optimized later.\n",
    "\n",
    "    Args:\n",
    "        params (numpy.array): parameters to be used in the variational circuit\n",
    "        H (qml.Hamiltonian): Hamiltonian used to calculate the expected value\n",
    "\n",
    "    Returns:\n",
    "        (float): Expected value with respect to the Hamiltonian H\n",
    "    \"\"\"\n",
    "    N=4\n",
    "    \n",
    "    for i in range(N):\n",
    "        qml.RY(params[i],wires=i)\n",
    "    \n",
    "    #Can add CNOT, RX, RZ for access to more possible quantum states\n",
    "    \n",
    "    return qml.expval(H)"
   ]
  },
  {
   "cell_type": "code",
   "execution_count": 151,
   "id": "5b399fee",
   "metadata": {},
   "outputs": [],
   "source": [
    "def train(h):\n",
    "    \"\"\"\n",
    "    In this function you must design a subroutine that returns the\n",
    "    parameters that best approximate the ground state.\n",
    "\n",
    "    Args:\n",
    "        h (float): magnetic field strength\n",
    "\n",
    "    Returns:\n",
    "        (numpy.array): parameters that best approximate the ground state.\n",
    "    \"\"\"\n",
    "    \n",
    "    #Hamiltonian based of mag field\n",
    "    H = create_Hamiltonian(h)\n",
    "    #Params to control RY ansatz rotations\n",
    "    params = np.random.rand(4, requires_grad=True)\n",
    "\n",
    "    #optimser\n",
    "    opt = qml.AdamOptimizer(stepsize=0.01)\n",
    "    for k in range(100):\n",
    "        #Func passes params to model to calc energy with H\n",
    "        #Optimiser minimises energy based on params gradient\n",
    "        params = opt.step(lambda curParams: model(curParams, H), params)\n",
    "    \n",
    "    return params"
   ]
  },
  {
   "cell_type": "markdown",
   "id": "d908cc69",
   "metadata": {},
   "source": [
    "### These functions are responsible for testing the solution."
   ]
  },
  {
   "cell_type": "code",
   "execution_count": 152,
   "id": "6ee735a4",
   "metadata": {},
   "outputs": [],
   "source": [
    "def run(test_case_input: str) -> str:\n",
    "    ins = json.loads(test_case_input)\n",
    "    params = train(ins)\n",
    "    return str(model(params, create_Hamiltonian(ins)))\n",
    "\n",
    "\n",
    "def check(solution_output: str, expected_output: str) -> None:\n",
    "    solution_output = json.loads(solution_output)\n",
    "    expected_output = json.loads(expected_output)\n",
    "    assert np.allclose(\n",
    "        solution_output, expected_output, rtol=1e-1\n",
    "    ), \"The expected value is not correct.\""
   ]
  },
  {
   "cell_type": "code",
   "execution_count": 153,
   "id": "58143324",
   "metadata": {},
   "outputs": [],
   "source": [
    "# These are the public test cases\n",
    "test_cases = [\n",
    "    ('1.0', '-5.226251859505506'),\n",
    "    ('2.3', '-9.66382463698038')\n",
    "]"
   ]
  },
  {
   "cell_type": "code",
   "execution_count": 154,
   "id": "2d244a33",
   "metadata": {},
   "outputs": [
    {
     "name": "stdout",
     "output_type": "stream",
     "text": [
      "Running test case 0 with input '1.0'...\n",
      "Correct!\n",
      "Running test case 1 with input '2.3'...\n",
      "Correct!\n"
     ]
    }
   ],
   "source": [
    "# This will run the public test cases locally\n",
    "for i, (input_, expected_output) in enumerate(test_cases):\n",
    "    print(f\"Running test case {i} with input '{input_}'...\")\n",
    "\n",
    "    try:\n",
    "        output = run(input_)\n",
    "\n",
    "    except Exception as exc:\n",
    "        print(f\"Runtime Error. {exc}\")\n",
    "\n",
    "    else:\n",
    "        if message := check(output, expected_output):\n",
    "            print(f\"Wrong Answer. Have: '{output}'. Want: '{expected_output}'.\")\n",
    "\n",
    "        else:\n",
    "            print(\"Correct!\")"
   ]
  }
 ],
 "metadata": {
  "kernelspec": {
   "display_name": "Python 3 (ipykernel)",
   "language": "python",
   "name": "python3"
  },
  "language_info": {
   "codemirror_mode": {
    "name": "ipython",
    "version": 3
   },
   "file_extension": ".py",
   "mimetype": "text/x-python",
   "name": "python",
   "nbconvert_exporter": "python",
   "pygments_lexer": "ipython3",
   "version": "3.10.9"
  }
 },
 "nbformat": 4,
 "nbformat_minor": 5
}
