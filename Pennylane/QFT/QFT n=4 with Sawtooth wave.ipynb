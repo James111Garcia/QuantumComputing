{
 "cells": [
  {
   "cell_type": "code",
   "execution_count": 148,
   "id": "2f57dfdd",
   "metadata": {},
   "outputs": [],
   "source": [
    "import pennylane as qml\n",
    "import numpy as np\n",
    "import math\n",
    "from scipy.linalg import eig\n",
    "import matplotlib.pyplot as plt"
   ]
  },
  {
   "cell_type": "code",
   "execution_count": 149,
   "id": "7c9385d4",
   "metadata": {},
   "outputs": [
    {
     "data": {
      "text/plain": [
       "array([0.0625, 0.0625, 0.0625, 0.0625, 0.0625, 0.0625, 0.0625, 0.0625,\n",
       "       0.0625, 0.0625, 0.0625, 0.0625, 0.0625, 0.0625, 0.0625, 0.0625])"
      ]
     },
     "execution_count": 149,
     "metadata": {},
     "output_type": "execute_result"
    }
   ],
   "source": [
    "# Create 4 qubit QFT\n",
    "dev = qml.device(\"default.qubit\", wires=4)\n",
    "\n",
    "@qml.qnode(dev)\n",
    "def qft():\n",
    "    \n",
    "    qml.Hadamard(3)\n",
    "    #Qubit 3 rotations\n",
    "    qml.ControlledPhaseShift(np.pi/2, wires=[2,3])\n",
    "    qml.ControlledPhaseShift(np.pi/4, wires=[1,3])\n",
    "    qml.ControlledPhaseShift(np.pi/8, wires=[0,3])\n",
    "\n",
    "    qml.Hadamard(2)\n",
    "    #Qubit 2 rotations\n",
    "    qml.ControlledPhaseShift(np.pi/2, wires=[1,2])\n",
    "    qml.ControlledPhaseShift(np.pi/4, wires=[0,2])\n",
    "    \n",
    "    qml.Hadamard(1)\n",
    "    #Qubit 1 rotations\n",
    "    qml.ControlledPhaseShift(np.pi/2, wires=[0,1])\n",
    "    \n",
    "    qml.Hadamard(0)\n",
    "    \n",
    "    #Swap gates\n",
    "    qml.SWAP(wires=[0,3])\n",
    "    qml.SWAP(wires=[1,2])\n",
    "\n",
    "    return qml.probs(wires=[0, 1, 2, 3])\n",
    "    #return qml.state()\n",
    "    \n",
    "qft()"
   ]
  },
  {
   "cell_type": "code",
   "execution_count": 150,
   "id": "21c2e7e7",
   "metadata": {},
   "outputs": [
    {
     "name": "stdout",
     "output_type": "stream",
     "text": [
      "0: ────────────────────────╭●─────────────────────╭●───────────╭●─────────H─╭SWAP───────┤ ╭Probs\n",
      "1: ──────────────╭●────────│────────────╭●────────│──────────H─╰Rϕ(1.57)────│─────╭SWAP─┤ ├Probs\n",
      "2: ────╭●────────│─────────│──────────H─╰Rϕ(1.57)─╰Rϕ(0.79)─────────────────│─────╰SWAP─┤ ├Probs\n",
      "3: ──H─╰Rϕ(1.57)─╰Rϕ(0.79)─╰Rϕ(0.39)────────────────────────────────────────╰SWAP───────┤ ╰Probs\n"
     ]
    }
   ],
   "source": [
    "print(qml.draw(qft)())"
   ]
  },
  {
   "cell_type": "code",
   "execution_count": 151,
   "id": "c244729a",
   "metadata": {},
   "outputs": [
    {
     "name": "stdout",
     "output_type": "stream",
     "text": [
      "Normalized amplitudes: [-0.431 -0.377 -0.323 -0.27  -0.216 -0.162 -0.108 -0.054  0.     0.054\n",
      "  0.108  0.162  0.216  0.27   0.323  0.377]\n"
     ]
    }
   ],
   "source": [
    "n_wires = 4\n",
    "\n",
    "# Generate sawtooth function values\n",
    "num_basis_states = 2**n_wires\n",
    "x_vals = np.linspace(0, 2 * np.pi, num_basis_states, endpoint=False)  # 16 points\n",
    "sawtooth_vals = x_vals - np.pi  # Apply f(x) = x - π\n",
    "\n",
    "# Normalize to get valid amplitudes\n",
    "norm = np.sqrt(np.sum(sawtooth_vals ** 2))\n",
    "amplitudes = sawtooth_vals / norm\n",
    "\n",
    "print(\"Normalized amplitudes:\", np.round(amplitudes, 3))"
   ]
  },
  {
   "cell_type": "code",
   "execution_count": 159,
   "id": "10e02b1e",
   "metadata": {},
   "outputs": [
    {
     "name": "stdout",
     "output_type": "stream",
     "text": [
      "Decomposed Circuit:\n",
      "0: ──RY(1.38)─╭●────────────╭●──────────────╭●──────────────────────────╭●──────────────────────────\n",
      "1: ──RY(1.64)─╰X──RY(-0.86)─╰X─╭●───────────│─────────────╭●────────────│───────────────╭●──────────\n",
      "2: ──RY(1.66)──────────────────╰X──RY(0.27)─╰X──RY(-0.06)─╰X──RY(-0.60)─╰X─╭●───────────│───────────\n",
      "3: ──RY(1.71)──────────────────────────────────────────────────────────────╰X──RY(0.21)─╰X──RY(0.10)\n",
      "\n",
      "───────────────╭●──────────────────────────────────────────────────────╭●──RZ(-3.14)─╭●─╭●────╭●───\n",
      "───────────────│───────────────────────────╭●──────────────────────────│─────────────╰X─╰X─╭●─│──╭●\n",
      "──╭●───────────│─────────────╭●────────────│─────────────╭●────────────│───────────────────╰X─╰X─╰X\n",
      "──╰X──RY(0.28)─╰X──RY(-0.12)─╰X──RY(-0.18)─╰X──RY(-0.10)─╰X──RY(-0.45)─╰X──────────────────────────\n",
      "\n",
      "──╭●──────────╭●──────────╭●─╭GlobalPhase(-1.57)─┤  State\n",
      "──│─────╭●────│─────╭●────│──├GlobalPhase(-1.57)─┤  State\n",
      "──╰X─╭●─│──╭●─│──╭●─│──╭●─│──├GlobalPhase(-1.57)─┤  State\n",
      "─────╰X─╰X─╰X─╰X─╰X─╰X─╰X─╰X─╰GlobalPhase(-1.57)─┤  State\n",
      "\n",
      "Final Basis States and Amplitudes:\n",
      "|0000>: (-0.4313310893253816+5.282282379150697e-17j)\n",
      "|0001>: (-0.3774147094097089+4.6219971582972846e-17j)\n",
      "|0010>: (-0.3234983194940363+3.9617118149791937e-17j)\n",
      "|0011>: (-0.26958192957836374+3.3014264716611034e-17j)\n",
      "|0100>: (-0.2156655496626908+2.6411412508076884e-17j)\n",
      "|0101>: (-0.16174915974701815+1.9808559074895968e-17j)\n",
      "|0110>: (-0.10783276983134542+1.3205705641715044e-17j)\n",
      "|0111>: (-0.0539163899156727+6.602853433180921e-18j)\n",
      "|1000>: (-3.469446951953614e-18+0j)\n",
      "|1001>: (0.05391638991567269+1.8115240810648149e-34j)\n",
      "|1010>: (0.10783276983134538+1.2205369271237708e-34j)\n",
      "|1011>: (0.16174915974701806+7.28090811271012e-34j)\n",
      "|1100>: (0.2156655496626908+2.4616617947710235e-34j)\n",
      "|1101>: (0.2695819295783635+1.144131822841808e-33j)\n",
      "|1110>: (0.3234983194940362+1.1385918499443738e-33j)\n",
      "|1111>: (0.377414709409709+1.802825592539887e-34j)\n"
     ]
    }
   ],
   "source": [
    "dev = qml.device(\"default.qubit\", wires=4)\n",
    "\n",
    "# Use amplitudes calculated above to generate a state\n",
    "target_amplitudes = np.array([\n",
    "    -0.43133109, -0.37741471, -0.32349832, -0.26958193,\n",
    "    -0.21566555, -0.16174916, -0.10783277, -0.05391639,\n",
    "     0.0,         0.05391639,  0.10783277,  0.16174916,\n",
    "     0.21566555,  0.26958193,  0.32349832,  0.37741471\n",
    "])\n",
    "\n",
    "\n",
    "@qml.qnode(dev)\n",
    "def circuit():\n",
    "    # Use state preparation to make a state = target_amplitudes\n",
    "    qml.templates.MottonenStatePreparation(target_amplitudes, wires=[0, 1, 2, 3])\n",
    "    return qml.state()\n",
    "\n",
    "# Apply the decompose transform to the circuit\n",
    "decomposed_circuit = qml.transforms.decompose(circuit)\n",
    "\n",
    "# Draw the decomposed circuit\n",
    "print(\"Decomposed Circuit:\")\n",
    "print(qml.draw(decomposed_circuit)())\n",
    "\n",
    "final_state = circuit()\n",
    "\n",
    "# Print the final basis states and their amplitudes\n",
    "print(\"\\nFinal Basis States and Amplitudes:\")\n",
    "for i, amplitude in enumerate(final_state):\n",
    "    basis_state = f\"{i:04b}\"  # Convert index to 4-bit binary string\n",
    "    print(f\"|{basis_state}>: {amplitude}\")"
   ]
  },
  {
   "cell_type": "code",
   "execution_count": 160,
   "id": "25e3a773",
   "metadata": {},
   "outputs": [
    {
     "data": {
      "text/plain": [
       "array([0.01192242, 0.3046173 , 0.0800028 , 0.03802981, 0.02294637,\n",
       "       0.01680125, 0.01377075, 0.01178712, 0.01152778, 0.01178792,\n",
       "       0.01377028, 0.01680609, 0.02294588, 0.03805178, 0.08000331,\n",
       "       0.30522914])"
      ]
     },
     "execution_count": 160,
     "metadata": {},
     "output_type": "execute_result"
    }
   ],
   "source": [
    "dev = qml.device(\"default.qubit\", wires=4)\n",
    "\n",
    "@qml.qnode(dev)\n",
    "#Create a circuit using the given gates to reach the Sawtooth wave final state\n",
    "def manual_circuit():\n",
    "    # Apply RY gates to all qubits\n",
    "    qml.RY(1.38, wires=0)\n",
    "    qml.RY(1.64, wires=1)\n",
    "    qml.RY(1.66, wires=2)\n",
    "    qml.RY(1.71, wires=3)\n",
    "\n",
    "    # First layer of CNOT and RY gates\n",
    "    qml.CNOT(wires=[0,1])\n",
    "    qml.RY(-0.86, wires=1)\n",
    "    qml.CNOT(wires=[0,1])\n",
    "\n",
    "    qml.CNOT(wires=[1,2])\n",
    "    qml.RY(0.27, wires=2)\n",
    "    qml.CNOT(wires=[0,2])\n",
    "\n",
    "    qml.RY(-0.06, wires=2)\n",
    "    qml.CNOT(wires=[1,2])\n",
    "\n",
    "    qml.RY(-0.60, wires=2)\n",
    "    qml.CNOT(wires=[0,2])\n",
    "\n",
    "    qml.CNOT(wires=[2, 3])\n",
    "    qml.RY(0.21, wires=3)\n",
    "    qml.CNOT(wires=[1, 3])\n",
    "\n",
    "    qml.RY(0.10, wires=3)\n",
    "    qml.CNOT(wires=[2,3])\n",
    "\n",
    "    qml.RY(0.28, wires=3)\n",
    "    qml.CNOT(wires=[0,3])\n",
    "\n",
    "    qml.RY(-0.12, wires=3)\n",
    "    qml.CNOT(wires=[2,3])\n",
    "\n",
    "    qml.RY(-0.18, wires=3)\n",
    "    qml.CNOT(wires=[1, 3])\n",
    "    \n",
    "    qml.RY(-0.10, wires=3)\n",
    "    qml.CNOT(wires=[2, 3])\n",
    "    \n",
    "    qml.RY(-0.45, wires=3)\n",
    "    qml.CNOT(wires=[0, 3])\n",
    "\n",
    "    # Apply RZ gate\n",
    "    qml.RZ(-3.14, wires=0)\n",
    "    \n",
    "    qml.CNOT(wires=[0,1])\n",
    "    qml.CNOT(wires=[0,1])\n",
    "    qml.CNOT(wires=[1,2])\n",
    "    qml.CNOT(wires=[0,2])\n",
    "    qml.CNOT(wires=[1,2])\n",
    "    \n",
    "    qml.CNOT(wires=[0,2])\n",
    "    qml.CNOT(wires=[2,3])\n",
    "    qml.CNOT(wires=[1,3])\n",
    "    qml.CNOT(wires=[2,3])\n",
    "    qml.CNOT(wires=[0,3])\n",
    "    qml.CNOT(wires=[2,3])\n",
    "    qml.CNOT(wires=[1,3])\n",
    "    qml.CNOT(wires=[2,3])\n",
    "    qml.CNOT(wires=[0,3])\n",
    "\n",
    "    # Apply global phase shifts\n",
    "    qml.GlobalPhase(-1.57)\n",
    "\n",
	"    # End of sawtooth wave initialisation\n",
	"\n",
    "    #qft()\n",
    "    qml.QFT(wires=[0, 1, 2, 3])\n",
    "\n",
    "    # Measure the probabilities of the final state\n",
    "    return qml.probs(wires=[0, 1, 2, 3])\n",
    "\n",
    "# Compute the final state vector\n",
    "probabilities = manual_circuit()\n",
    "\n",
    "probabilities"
   ]
  },
  {
   "cell_type": "code",
   "execution_count": 162,
   "id": "ae34f970",
   "metadata": {},
   "outputs": [
    {
     "data": {
      "image/png": "[encoded data removed]",
      "text/plain": [
       "<Figure size 1200x600 with 2 Axes>"
      ]
     },
     "metadata": {},
     "output_type": "display_data"
    }
   ],
   "source": [
    "classical_fft = np.fft.fft(sawtooth_vals)\n",
    "classical_probs = np.abs(classical_fft) ** 2\n",
    "classical_probs /= np.sum(classical_probs)  # Normalise probabilities\n",
    "\n",
    "# Plot results\n",
    "fig, (ax1, ax2) = plt.subplots(1, 2, figsize=(12, 6))\n",
    "\n",
    "# Quantum Fourier Transform output\n",
    "ax1.bar(basis_states, probabilities, color='blue', alpha=0.7)\n",
    "ax1.set_title(\"QFT Output Probability Distribution (Sawtooth Function)\")\n",
    "ax1.set_xlabel(\"Basis State)\")\n",
    "ax1.set_ylabel(\"Probability\")\n",
    "ax1.tick_params(axis='x', rotation=45)\n",
    "\n",
    "# Classical Fourier Transform output\n",
    "ax2.bar(basis_states, classical_probs, color='orange', alpha=0.7)\n",
    "ax2.set_title(\"Classical Fourier Transform of Sawtooth Wave\")\n",
    "ax2.set_xlabel(\"Binary State Position\")\n",
    "ax2.set_ylabel(\"Normalized Magnitude\")\n",
    "ax2.tick_params(axis='x', rotation=45)\n",
    "\n",
    "plt.tight_layout()\n",
    "plt.show()"
   ]
  }
 ],
 "metadata": {
  "kernelspec": {
   "display_name": "Python 3 (ipykernel)",
   "language": "python",
   "name": "python3"
  },
  "language_info": {
   "codemirror_mode": {
    "name": "ipython",
    "version": 3
   },
   "file_extension": ".py",
   "mimetype": "text/x-python",
   "name": "python",
   "nbconvert_exporter": "python",
   "pygments_lexer": "ipython3",
   "version": "3.10.9"
  }
 },
 "nbformat": 4,
 "nbformat_minor": 5
}
