{
 "cells": [
  {
   "cell_type": "code",
   "execution_count": 8,
   "id": "96481fb1",
   "metadata": {},
   "outputs": [],
   "source": [
    "import pennylane as qml\n",
    "import numpy as np"
   ]
  },
  {
   "cell_type": "code",
   "execution_count": 9,
   "id": "bb6042fc",
   "metadata": {},
   "outputs": [
    {
     "data": {
      "text/plain": [
       "array([0.0625, 0.0625, 0.0625, 0.0625, 0.0625, 0.0625, 0.0625, 0.0625,\n",
       "       0.0625, 0.0625, 0.0625, 0.0625, 0.0625, 0.0625, 0.0625, 0.0625])"
      ]
     },
     "execution_count": 9,
     "metadata": {},
     "output_type": "execute_result"
    }
   ],
   "source": [
    "# Create 4 qubit QFT\n",
    "dev = qml.device(\"default.qubit\", wires=4)\n",
    "\n",
    "@qml.qnode(dev)\n",
    "def qft():\n",
    "    \n",
    "    qml.Hadamard(3)\n",
    "    #Qubit 3 rotations\n",
    "    qml.ControlledPhaseShift(np.pi/2, wires=[2,3])\n",
    "    qml.ControlledPhaseShift(np.pi/4, wires=[1,3])\n",
    "    qml.ControlledPhaseShift(np.pi/8, wires=[0,3])\n",
    "\n",
    "    qml.Hadamard(2)\n",
    "    #Qubit 2 rotations\n",
    "    qml.ControlledPhaseShift(np.pi/2, wires=[1,2])\n",
    "    qml.ControlledPhaseShift(np.pi/4, wires=[0,2])\n",
    "    \n",
    "    qml.Hadamard(1)\n",
    "    #Qubit 1 rotations\n",
    "    qml.ControlledPhaseShift(np.pi/2, wires=[0,1])\n",
    "    \n",
    "    qml.Hadamard(0)\n",
    "    \n",
    "    #Swap gates\n",
    "    qml.SWAP(wires=[0,3])\n",
    "    qml.SWAP(wires=[1,2])\n",
    "\n",
    "    return qml.probs(wires=[0, 1, 2, 3])\n",
    "    #return qml.state()\n",
    "    \n",
    "qft()"
   ]
  },
  {
   "cell_type": "code",
   "execution_count": 10,
   "id": "bc5b654a",
   "metadata": {},
   "outputs": [
    {
     "data": {
      "text/plain": [
       "array([0.0625, 0.0625, 0.0625, 0.0625, 0.0625, 0.0625, 0.0625, 0.0625,\n",
       "       0.0625, 0.0625, 0.0625, 0.0625, 0.0625, 0.0625, 0.0625, 0.0625])"
      ]
     },
     "execution_count": 10,
     "metadata": {},
     "output_type": "execute_result"
    }
   ],
   "source": [
    "@qml.qnode(dev)\n",
    "def iqft():\n",
    "    #same as QFT but reverse order with negative phases\n",
    "    # First apply SWAP gates\n",
    "    qml.SWAP(wires=[0,3])\n",
    "    qml.SWAP(wires=[1,2])\n",
    "    \n",
    "    # Qubit 0 operations\n",
    "    qml.Hadamard(0)\n",
    "    \n",
    "    # Qubit 1 operations (negative phase shifts)\n",
    "    qml.ControlledPhaseShift(-np.pi/2, wires=[0,1])\n",
    "    qml.Hadamard(1)\n",
    "    \n",
    "    # Qubit 2 operations\n",
    "    qml.ControlledPhaseShift(-np.pi/4, wires=[0,2])\n",
    "    qml.ControlledPhaseShift(-np.pi/2, wires=[1,2])\n",
    "    qml.Hadamard(2)\n",
    "    \n",
    "    # Qubit 3 operations\n",
    "    qml.ControlledPhaseShift(-np.pi/8, wires=[0,3])\n",
    "    qml.ControlledPhaseShift(-np.pi/4, wires=[1,3])\n",
    "    qml.ControlledPhaseShift(-np.pi/2, wires=[2,3])\n",
    "    qml.Hadamard(3)\n",
    "    \n",
    "    return qml.probs(wires=[0, 1, 2, 3])\n",
    "    # return qml.state()\n",
    "\n",
    "iqft()"
   ]
  },
  {
   "cell_type": "code",
   "execution_count": 11,
   "id": "bf896a55",
   "metadata": {},
   "outputs": [
    {
     "name": "stdout",
     "output_type": "stream",
     "text": [
      "=== Initial State ===\n",
      "[0.0481+0.1721j 0.2308+0.1513j 0.0821+0.2395j 0.1664+0.0501j\n",
      " 0.0045+0.2384j 0.2865+0.0065j 0.2808+0.0422j 0.0104+0.0363j\n",
      " 0.2984+0.0966j 0.0428+0.2094j 0.0885+0.1469j 0.189 +0.2545j\n",
      " 0.2944+0.0903j 0.2659+0.2286j 0.0007+0.2191j 0.1625+0.1021j]\n",
      "\n",
      "=== After QFT ===\n",
      "[0.0481+0.1721j 0.2308+0.1513j 0.0821+0.2395j 0.1664+0.0501j\n",
      " 0.0045+0.2384j 0.2865+0.0065j 0.2808+0.0422j 0.0104+0.0363j\n",
      " 0.2984+0.0966j 0.0428+0.2094j 0.0885+0.1469j 0.189 +0.2545j\n",
      " 0.2944+0.0903j 0.2659+0.2286j 0.0007+0.2191j 0.1625+0.1021j]\n",
      "\n",
      "=== After QFT + IQFT ===\n",
      "[0.0481+0.1721j 0.2308+0.1513j 0.0821+0.2395j 0.1664+0.0501j\n",
      " 0.0045+0.2384j 0.2865+0.0065j 0.2808+0.0422j 0.0104+0.0363j\n",
      " 0.2984+0.0966j 0.0428+0.2094j 0.0885+0.1469j 0.189 +0.2545j\n",
      " 0.2944+0.0903j 0.2659+0.2286j 0.0007+0.2191j 0.1625+0.1021j]\n"
     ]
    }
   ],
   "source": [
    "@qml.qnode(dev)\n",
    "#Circuit to get state after qft\n",
    "def qftCircuit(initialState):\n",
    "    qml.QubitStateVector(initialState, wires=[0,1,2,3])\n",
    "    qft()\n",
    "    return qml.state()\n",
    "\n",
    "#Circuit to get state after qft and iqft\n",
    "@qml.qnode(dev)\n",
    "def iqftCircuit(initialState):\n",
    "    qml.QubitStateVector(initialState, wires=[0,1,2,3])\n",
    "    qft()\n",
    "    iqft()\n",
    "    return qml.state()\n",
    "\n",
    "# make random 4 qubit state\n",
    "np.random.seed(12)\n",
    "randomState = np.random.rand(16) + 1j*np.random.rand(16)\n",
    "randomState = randomState / np.linalg.norm(randomState)\n",
    "\n",
    "qftState = qftCircuit(randomState)\n",
    "finalState = iqftCircuit(randomState)\n",
    "\n",
    "print(\"=== Initial State ===\")\n",
    "print(np.array2string(randomState, precision=4, suppress_small=True))\n",
    "print(\"\\n=== After QFT ===\")\n",
    "print(np.array2string(qftState, precision=4, suppress_small=True))\n",
    "print(\"\\n=== After QFT + IQFT ===\")\n",
    "print(np.array2string(finalState, precision=4, suppress_small=True))"
   ]
  },
  {
   "cell_type": "code",
   "execution_count": null,
   "id": "375aaf7a",
   "metadata": {},
   "outputs": [],
   "source": []
  }
 ],
 "metadata": {
  "kernelspec": {
   "display_name": "Python 3 (ipykernel)",
   "language": "python",
   "name": "python3"
  },
  "language_info": {
   "codemirror_mode": {
    "name": "ipython",
    "version": 3
   },
   "file_extension": ".py",
   "mimetype": "text/x-python",
   "name": "python",
   "nbconvert_exporter": "python",
   "pygments_lexer": "ipython3",
   "version": "3.10.9"
  }
 },
 "nbformat": 4,
 "nbformat_minor": 5
}
