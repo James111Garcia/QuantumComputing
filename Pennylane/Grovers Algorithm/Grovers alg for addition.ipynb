{
 "cells": [
  {
   "cell_type": "code",
   "execution_count": 2,
   "id": "fafce434",
   "metadata": {},
   "outputs": [],
   "source": [
    "import pennylane as qml\n",
    "import numpy as np"
   ]
  },
  {
   "cell_type": "code",
   "execution_count": 6,
   "id": "946555f0",
   "metadata": {},
   "outputs": [
    {
     "data": {
      "text/plain": [
       "{'11': 100}"
      ]
     },
     "execution_count": 6,
     "metadata": {},
     "output_type": "execute_result"
    }
   ],
   "source": [
    "dev = qml.device(\"default.qubit\", wires=5,shots=100)\n",
    "\n",
    "@qml.qnode(dev)\n",
    "def addition():\n",
    "    #X=Y=1\n",
    "    \n",
    "    #make |-> state ancillary (y)\n",
    "    qml.PauliX(4)\n",
    "    qml.Hadamard(4)\n",
    "    \n",
    "    #make |+> state for inputs\n",
    "    qml.Hadamard(0)\n",
    "    qml.Hadamard(1)\n",
    "    \n",
    "    #Q half adder\n",
    "    qml.CNOT(wires=[0,3])\n",
    "    qml.CNOT(wires=[1,3])\n",
    "    qml.Toffoli(wires=[0,1,2])\n",
    "    \n",
    "    #Query (For |10> which shows 1 carry 0 sum which=2) (add X on q2 for X=Y=0)\n",
    "    #qml.PauliX(2)\n",
    "    qml.PauliX(3)\n",
    "    qml.Toffoli(wires=[2,3,4])\n",
    "    #qml.PauliX(2)\n",
    "    qml.PauliX(3)\n",
    "    \n",
    "    #Q half adder inverse\n",
    "    qml.Toffoli(wires=[0,1,2])\n",
    "    qml.CNOT(wires=[1,3])\n",
    "    qml.CNOT(wires=[0,3])\n",
    "    \n",
    "    #Diffuser\n",
    "    qml.Hadamard(0)\n",
    "    qml.Hadamard(1)\n",
    "    \n",
    "    #R0\n",
    "    qml.PauliX(0)\n",
    "    qml.PauliX(1)\n",
    "    \n",
    "    qml.Toffoli(wires=[0,1,4])\n",
    "    \n",
    "    qml.PauliX(0)\n",
    "    qml.PauliX(1)\n",
    "    \n",
    "    qml.Hadamard(0)\n",
    "    qml.Hadamard(1)\n",
    "    \n",
    "    return qml.counts(wires=[0,1])\n",
    "\n",
    "addition()"
   ]
  },
  {
   "cell_type": "code",
   "execution_count": 10,
   "id": "719090d4",
   "metadata": {},
   "outputs": [
    {
     "data": {
      "text/plain": [
       "{'0000': 6,\n",
       " '0001': 7,\n",
       " '0010': 4,\n",
       " '0011': 6,\n",
       " '0100': 8,\n",
       " '0101': 5,\n",
       " '0110': 8,\n",
       " '0111': 7,\n",
       " '1000': 8,\n",
       " '1001': 3,\n",
       " '1010': 5,\n",
       " '1011': 8,\n",
       " '1100': 7,\n",
       " '1101': 5,\n",
       " '1110': 8,\n",
       " '1111': 5}"
      ]
     },
     "execution_count": 10,
     "metadata": {},
     "output_type": "execute_result"
    }
   ],
   "source": [
    "#Incomplete\n",
    "dev = qml.device(\"default.qubit\", wires=8,shots=100)\n",
    "\n",
    "@qml.qnode(dev)\n",
    "def addition():\n",
    "    #X=2,|10>  Y=3,|11>\n",
    "    \n",
    "    #make |-> state ancillary (y)\n",
    "    qml.PauliX(7)\n",
    "    qml.Hadamard(7)\n",
    "    \n",
    "    #make |+> state for inputs\n",
    "    qml.Hadamard(0)\n",
    "    qml.Hadamard(1)\n",
    "    qml.Hadamard(2)\n",
    "    qml.Hadamard(3)\n",
    "    \n",
    "    #Q half adder\n",
    "    qml.CNOT(wires=[1,4])\n",
    "    qml.CNOT(wires=[3,4])#4=s0\n",
    "    qml.Toffoli(wires=[1,3,5])\n",
    "    #Q adder\n",
    "    qml.Toffoli(wires=[1,3,6])\n",
    "    qml.CNOT(wires=[1,3])\n",
    "    qml.Toffoli(wires=[3,5,6])\n",
    "    qml.CNOT(wires=[3,5])\n",
    "    qml.CNOT(wires=[1,3])\n",
    "    \n",
    "    #Query\n",
    "    qml.PauliX(wires=5)  # Flip qubit 4 to detect |0>\n",
    "    qml.MultiControlledX(wires=[4,5,6,7])  # Mark |101>\n",
    "    qml.PauliX(wires=5)  # Revert qubit 4\n",
    "    \n",
    "    #Q adder inverse\n",
    "    #Q adder\n",
    "    qml.CNOT(wires=[1,3])\n",
    "    qml.CNOT(wires=[3,5])\n",
    "    qml.Toffoli(wires=[3,5,6])\n",
    "    qml.CNOT(wires=[1,3])\n",
    "    qml.Toffoli(wires=[1,3,6])\n",
    "    #Q half adder\n",
    "    qml.Toffoli(wires=[1,3,5])\n",
    "    qml.CNOT(wires=[3,4])#4=s0\n",
    "    qml.CNOT(wires=[1,4])\n",
    "    \n",
    "\n",
    "    #Diffuser\n",
    "    qml.Hadamard(0)\n",
    "    qml.Hadamard(1)\n",
    "    qml.Hadamard(2)\n",
    "    qml.Hadamard(3)\n",
    "    #R0\n",
    "    qml.PauliX(0)\n",
    "    qml.PauliX(1)\n",
    "    qml.PauliX(2)\n",
    "    qml.PauliX(2)\n",
    "    qml.MultiControlledX(wires=[0,1,2,3,7])\n",
    "    \n",
    "    qml.PauliX(0)\n",
    "    qml.PauliX(1)\n",
    "    qml.PauliX(2)\n",
    "    qml.PauliX(3)\n",
    "    qml.Hadamard(0)\n",
    "    qml.Hadamard(1)\n",
    "    qml.Hadamard(2)\n",
    "    qml.Hadamard(3)\n",
    "    return qml.counts(wires=[0,1,2,3])\n",
    "\n",
    "addition()"
   ]
  },
  {
   "cell_type": "code",
   "execution_count": null,
   "id": "c3430d6c",
   "metadata": {},
   "outputs": [],
   "source": []
  },
  {
   "cell_type": "code",
   "execution_count": null,
   "id": "c1cd27c6",
   "metadata": {},
   "outputs": [],
   "source": []
  }
 ],
 "metadata": {
  "kernelspec": {
   "display_name": "Python 3 (ipykernel)",
   "language": "python",
   "name": "python3"
  },
  "language_info": {
   "codemirror_mode": {
    "name": "ipython",
    "version": 3
   },
   "file_extension": ".py",
   "mimetype": "text/x-python",
   "name": "python",
   "nbconvert_exporter": "python",
   "pygments_lexer": "ipython3",
   "version": "3.10.9"
  }
 },
 "nbformat": 4,
 "nbformat_minor": 5
}
