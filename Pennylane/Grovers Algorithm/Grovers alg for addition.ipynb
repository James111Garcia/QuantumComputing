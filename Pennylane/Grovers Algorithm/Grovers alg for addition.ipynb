{
 "cells": [
  {
   "cell_type": "code",
   "execution_count": 1,
   "id": "fafce434",
   "metadata": {},
   "outputs": [],
   "source": [
    "import pennylane as qml\n",
    "import numpy as np"
   ]
  },
  {
   "cell_type": "code",
   "execution_count": 49,
   "id": "946555f0",
   "metadata": {},
   "outputs": [
    {
     "data": {
      "text/plain": [
       "{'11': 100}"
      ]
     },
     "execution_count": 49,
     "metadata": {},
     "output_type": "execute_result"
    }
   ],
   "source": [
    "dev = qml.device(\"default.qubit\", wires=5,shots=100)\n",
    "\n",
    "@qml.qnode(dev)\n",
    "def addition():\n",
    "    #X=Y=1\n",
    "    \n",
    "    #make |-> state ancillary (y)\n",
    "    qml.PauliX(4)\n",
    "    qml.Hadamard(4)\n",
    "    \n",
    "    #make |+> state for inputs\n",
    "    qml.Hadamard(0)\n",
    "    qml.Hadamard(1)\n",
    "    \n",
    "    #Q half adder\n",
    "    qml.CNOT(wires=[0,3])\n",
    "    qml.CNOT(wires=[1,3])\n",
    "    qml.Toffoli(wires=[0,1,2])\n",
    "    \n",
    "    #Query\n",
    "    qml.PauliX(3)\n",
    "    qml.Toffoli(wires=[2,3,4])\n",
    "    qml.PauliX(3)\n",
    "\n",
    "    #Q half adder inverse\n",
    "    qml.Toffoli(wires=[0,1,2])\n",
    "    qml.CNOT(wires=[1,3])\n",
    "    qml.CNOT(wires=[0,3])\n",
    "    \n",
    "    #Diffuser\n",
    "    qml.Hadamard(0)\n",
    "    qml.Hadamard(1)\n",
    "    \n",
    "    #R0\n",
    "    qml.PauliX(0)\n",
    "    qml.PauliX(1)\n",
    "    \n",
    "    qml.Toffoli(wires=[0,1,4])\n",
    "    \n",
    "    qml.PauliX(0)\n",
    "    qml.PauliX(1)\n",
    "    \n",
    "    qml.Hadamard(0)\n",
    "    qml.Hadamard(1)\n",
    "    \n",
    "    return qml.counts(wires=[0,1])\n",
    "\n",
    "addition()"
   ]
  },
  {
   "cell_type": "code",
   "execution_count": null,
   "id": "719090d4",
   "metadata": {},
   "outputs": [],
   "source": []
  },
  {
   "cell_type": "code",
   "execution_count": null,
   "id": "c3430d6c",
   "metadata": {},
   "outputs": [],
   "source": []
  }
 ],
 "metadata": {
  "kernelspec": {
   "display_name": "Python 3 (ipykernel)",
   "language": "python",
   "name": "python3"
  },
  "language_info": {
   "codemirror_mode": {
    "name": "ipython",
    "version": 3
   },
   "file_extension": ".py",
   "mimetype": "text/x-python",
   "name": "python",
   "nbconvert_exporter": "python",
   "pygments_lexer": "ipython3",
   "version": "3.10.9"
  }
 },
 "nbformat": 4,
 "nbformat_minor": 5
}
