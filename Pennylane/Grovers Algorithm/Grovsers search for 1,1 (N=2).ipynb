{
 "cells": [
  {
   "cell_type": "code",
   "execution_count": 11,
   "id": "26df5698",
   "metadata": {},
   "outputs": [
    {
     "data": {
      "text/plain": [
       "{'11': 100}"
      ]
     },
     "execution_count": 11,
     "metadata": {},
     "output_type": "execute_result"
    }
   ],
   "source": [
    "import pennylane as qml\n",
    "import numpy as np\n",
    "dev = qml.device(\"default.qubit\", wires=3,shots=100)\n",
    "\n",
    "@qml.qnode(dev)\n",
    "def grover():\n",
    "    \n",
    "    #make |-> state ancillary (y)\n",
    "    qml.PauliX(2)\n",
    "    qml.Hadamard(2)\n",
    "    \n",
    "    #make |+> state for inputs\n",
    "    qml.Hadamard(1)\n",
    "    qml.Hadamard(0)\n",
    "    \n",
    "    #phase oracle - Phase flip if |11> since ancillary is |->\n",
    "    qml.Toffoli(wires=[0, 1, 2])\n",
    "    \n",
    "    #diffusion/ Rs\n",
    "    qml.Hadamard(1)\n",
    "    qml.Hadamard(0)\n",
    "    \n",
    "    #R0\n",
    "    qml.PauliX(0)\n",
    "    qml.PauliX(1)\n",
    "    \n",
    "    qml.CZ(wires=[0,1])\n",
    "    \n",
    "    qml.PauliX(0)\n",
    "    qml.PauliX(1)\n",
    "    \n",
    "    #Apply -I phase\n",
    "    qml.PauliX(0)\n",
    "    qml.PauliZ(0)\n",
    "    qml.PauliX(0)\n",
    "    qml.PauliZ(0)\n",
    "    #end of R0\n",
    "    \n",
    "    qml.Hadamard(0)\n",
    "    qml.Hadamard(1)\n",
    "    \n",
    "    #readout\n",
    "    return qml.counts(wires=[0,1])\n",
    "\n",
    "grover()\n",
    "    "
   ]
  },
  {
   "cell_type": "code",
   "execution_count": null,
   "id": "e39998d2",
   "metadata": {},
   "outputs": [],
   "source": []
  },
  {
   "cell_type": "code",
   "execution_count": null,
   "id": "2caf12bb",
   "metadata": {},
   "outputs": [],
   "source": []
  },
  {
   "cell_type": "code",
   "execution_count": null,
   "id": "d295e23e",
   "metadata": {},
   "outputs": [],
   "source": []
  }
 ],
 "metadata": {
  "kernelspec": {
   "display_name": "Python 3 (ipykernel)",
   "language": "python",
   "name": "python3"
  },
  "language_info": {
   "codemirror_mode": {
    "name": "ipython",
    "version": 3
   },
   "file_extension": ".py",
   "mimetype": "text/x-python",
   "name": "python",
   "nbconvert_exporter": "python",
   "pygments_lexer": "ipython3",
   "version": "3.10.9"
  }
 },
 "nbformat": 4,
 "nbformat_minor": 5
}
