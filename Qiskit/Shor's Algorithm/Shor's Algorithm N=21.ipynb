{
 "cells": [
  {
   "cell_type": "code",
   "execution_count": 1,
   "id": "ab011235",
   "metadata": {},
   "outputs": [],
   "source": [
    "from qiskit import QuantumRegister, ClassicalRegister, QuantumCircuit, Aer, transpile, assemble, execute\n",
    "from qiskit.circuit.library import QFT\n",
    "from math import gcd\n",
    "# Define the quantum register\n",
    "n = 5\n",
    "qr = QuantumRegister(n+n)\n",
    "\n",
    "# Define a classical register to measure the results\n",
    "cr = ClassicalRegister(n)\n",
    "\n",
    "# Initialize the quantum circuit\n",
    "circuit = QuantumCircuit(qr, cr)\n",
    "\n",
    "# Define values for a and N, N must be the sum of 2 prime numbers\n",
    "a = 8\n",
    "N = 21\n"
   ]
  },
  {
   "cell_type": "code",
   "execution_count": 2,
   "id": "2d55455b",
   "metadata": {},
   "outputs": [
    {
     "data": {
      "text/plain": [
       "<qiskit.circuit.instructionset.InstructionSet at 0x17cc48a7700>"
      ]
     },
     "execution_count": 2,
     "metadata": {},
     "output_type": "execute_result"
    }
   ],
   "source": [
    "# Initialise counting qubits in state |+>\n",
    "circuit.h(range(5))\n",
    "# And auxiliary register in state |1>\n",
    "circuit.x(n+n-1)"
   ]
  },
  {
   "cell_type": "code",
   "execution_count": 3,
   "id": "09b8984b",
   "metadata": {},
   "outputs": [],
   "source": [
    "# a^x mod 21\n",
    "def modExpon(a, x):\n",
    "    # a is chosen so its coprime with N and\n",
    "    # a^r mod N = 1 (We want trivial period(1) as that is a key step in alg for it being faster than classical)\n",
    "    if a not in [2,5,8,10,11,13,19]:\n",
    "        raise ValueError(\"a must be 2,5,8,10,11,13,19\")\n",
    "        \n",
    "    #need 5 qubits to represent N(21)    \n",
    "    qc = QuantumCircuit(n)\n",
    "    \n",
    "    #implementing the swap gates for rotation\n",
    "    for i in range(x):\n",
    "        if a in [8]:\n",
    "            qc.x(1)\n",
    "            qc.x(3)\n",
    "        if a in [13]:\n",
    "            qc.x(2)\n",
    "            qc.x(3)\n",
    "        if a in [2,5,10,11,19]:\n",
    "            qc.swap(1,2)\n",
    "            qc.swap(2,3)\n",
    "            qc.swap(3,4)\n",
    "            qc.swap(1,4)\n",
    "        \n",
    "                \n",
    "    qc = qc.to_gate()\n",
    "    qc.name = \"%i^%i mod %i\" % (a, x, N)\n",
    "    c_qc = qc.control()\n",
    "    \n",
    "    return c_qc\n",
    "\n",
    "for x in range(n):\n",
    "        power = 2**x\n",
    "        circuit.append(modExpon(a, power), [x] + list(range(n, n+n)))"
   ]
  },
  {
   "cell_type": "code",
   "execution_count": 4,
   "id": "b1911fdb",
   "metadata": {},
   "outputs": [
    {
     "name": "stdout",
     "output_type": "stream",
     "text": [
      "{'00101': 9, '11101': 29, '00000': 509, '00001': 198, '11111': 187, '00011': 25, '01011': 4, '10101': 3, '01111': 2, '11001': 10, '01001': 4, '10011': 4, '00111': 6, '01101': 1, '11011': 8, '10111': 1}\n"
     ]
    },
    {
     "data": {
      "text/html": [
       "<pre style=\"word-wrap: normal;white-space: pre;background: #fff0;line-height: 1.1;font-family: &quot;Courier New&quot;,Courier,monospace\">      ┌───┐                                                                            ┌───────┐┌─┐            \n",
       "q0_0: ┤ H ├───────■────────────────────────────────────────────────────────────────────┤0      ├┤M├────────────\n",
       "      ├───┤       │                                                                    │       │└╥┘┌─┐         \n",
       "q0_1: ┤ H ├───────┼──────────────■─────────────────────────────────────────────────────┤1      ├─╫─┤M├─────────\n",
       "      ├───┤       │              │                                                     │       │ ║ └╥┘┌─┐      \n",
       "q0_2: ┤ H ├───────┼──────────────┼──────────────■──────────────────────────────────────┤2 IQFT ├─╫──╫─┤M├──────\n",
       "      ├───┤       │              │              │                                      │       │ ║  ║ └╥┘┌─┐   \n",
       "q0_3: ┤ H ├───────┼──────────────┼──────────────┼──────────────■───────────────────────┤3      ├─╫──╫──╫─┤M├───\n",
       "      ├───┤       │              │              │              │                       │       │ ║  ║  ║ └╥┘┌─┐\n",
       "q0_4: ┤ H ├───────┼──────────────┼──────────────┼──────────────┼──────────────■────────┤4      ├─╫──╫──╫──╫─┤M├\n",
       "      └───┘┌──────┴──────┐┌──────┴──────┐┌──────┴──────┐┌──────┴──────┐┌──────┴───────┐└───────┘ ║  ║  ║  ║ └╥┘\n",
       "q0_5: ─────┤0            ├┤0            ├┤0            ├┤0            ├┤0             ├──────────╫──╫──╫──╫──╫─\n",
       "           │             ││             ││             ││             ││              │          ║  ║  ║  ║  ║ \n",
       "q0_6: ─────┤1            ├┤1            ├┤1            ├┤1            ├┤1             ├──────────╫──╫──╫──╫──╫─\n",
       "           │             ││             ││             ││             ││              │          ║  ║  ║  ║  ║ \n",
       "q0_7: ─────┤2 8^1 mod 21 ├┤2 8^2 mod 21 ├┤2 8^4 mod 21 ├┤2 8^8 mod 21 ├┤2 8^16 mod 21 ├──────────╫──╫──╫──╫──╫─\n",
       "           │             ││             ││             ││             ││              │          ║  ║  ║  ║  ║ \n",
       "q0_8: ─────┤3            ├┤3            ├┤3            ├┤3            ├┤3             ├──────────╫──╫──╫──╫──╫─\n",
       "      ┌───┐│             ││             ││             ││             ││              │          ║  ║  ║  ║  ║ \n",
       "q0_9: ┤ X ├┤4            ├┤4            ├┤4            ├┤4            ├┤4             ├──────────╫──╫──╫──╫──╫─\n",
       "      └───┘└─────────────┘└─────────────┘└─────────────┘└─────────────┘└──────────────┘          ║  ║  ║  ║  ║ \n",
       "c0: 5/═══════════════════════════════════════════════════════════════════════════════════════════╩══╩══╩══╩══╩═\n",
       "                                                                                                 0  1  2  3  4 </pre>"
      ],
      "text/plain": [
       "      ┌───┐                                                                            ┌───────┐┌─┐            \n",
       "q0_0: ┤ H ├───────■────────────────────────────────────────────────────────────────────┤0      ├┤M├────────────\n",
       "      ├───┤       │                                                                    │       │└╥┘┌─┐         \n",
       "q0_1: ┤ H ├───────┼──────────────■─────────────────────────────────────────────────────┤1      ├─╫─┤M├─────────\n",
       "      ├───┤       │              │                                                     │       │ ║ └╥┘┌─┐      \n",
       "q0_2: ┤ H ├───────┼──────────────┼──────────────■──────────────────────────────────────┤2 IQFT ├─╫──╫─┤M├──────\n",
       "      ├───┤       │              │              │                                      │       │ ║  ║ └╥┘┌─┐   \n",
       "q0_3: ┤ H ├───────┼──────────────┼──────────────┼──────────────■───────────────────────┤3      ├─╫──╫──╫─┤M├───\n",
       "      ├───┤       │              │              │              │                       │       │ ║  ║  ║ └╥┘┌─┐\n",
       "q0_4: ┤ H ├───────┼──────────────┼──────────────┼──────────────┼──────────────■────────┤4      ├─╫──╫──╫──╫─┤M├\n",
       "      └───┘┌──────┴──────┐┌──────┴──────┐┌──────┴──────┐┌──────┴──────┐┌──────┴───────┐└───────┘ ║  ║  ║  ║ └╥┘\n",
       "q0_5: ─────┤0            ├┤0            ├┤0            ├┤0            ├┤0             ├──────────╫──╫──╫──╫──╫─\n",
       "           │             ││             ││             ││             ││              │          ║  ║  ║  ║  ║ \n",
       "q0_6: ─────┤1            ├┤1            ├┤1            ├┤1            ├┤1             ├──────────╫──╫──╫──╫──╫─\n",
       "           │             ││             ││             ││             ││              │          ║  ║  ║  ║  ║ \n",
       "q0_7: ─────┤2 8^1 mod 21 ├┤2 8^2 mod 21 ├┤2 8^4 mod 21 ├┤2 8^8 mod 21 ├┤2 8^16 mod 21 ├──────────╫──╫──╫──╫──╫─\n",
       "           │             ││             ││             ││             ││              │          ║  ║  ║  ║  ║ \n",
       "q0_8: ─────┤3            ├┤3            ├┤3            ├┤3            ├┤3             ├──────────╫──╫──╫──╫──╫─\n",
       "      ┌───┐│             ││             ││             ││             ││              │          ║  ║  ║  ║  ║ \n",
       "q0_9: ┤ X ├┤4            ├┤4            ├┤4            ├┤4            ├┤4             ├──────────╫──╫──╫──╫──╫─\n",
       "      └───┘└─────────────┘└─────────────┘└─────────────┘└─────────────┘└──────────────┘          ║  ║  ║  ║  ║ \n",
       "c0: 5/═══════════════════════════════════════════════════════════════════════════════════════════╩══╩══╩══╩══╩═\n",
       "                                                                                                 0  1  2  3  4 "
      ]
     },
     "execution_count": 4,
     "metadata": {},
     "output_type": "execute_result"
    }
   ],
   "source": [
    "# Apply the inverse Quantum Fourier Transform (QFT)\n",
    "circuit.append(QFT(n, do_swaps=False).inverse(), (range(n)))\n",
    "\n",
    "# Measure qubits\n",
    "circuit.measure(0,0)\n",
    "circuit.measure(1,1)\n",
    "circuit.measure(2,2)\n",
    "circuit.measure(3,3)\n",
    "circuit.measure(4,4)\n",
    "\n",
    "\n",
    "# Simulate the circuit to obtain measurement results\n",
    "simulator = Aer.get_backend('aer_simulator')\n",
    "job = execute(circuit, simulator, shots=1000)\n",
    "result = job.result()\n",
    "\n",
    "counts = result.get_counts(circuit)\n",
    "print(counts)\n",
    "circuit.draw(fold=-1)"
   ]
  },
  {
   "cell_type": "code",
   "execution_count": 5,
   "id": "effb1cb0",
   "metadata": {},
   "outputs": [
    {
     "name": "stdout",
     "output_type": "stream",
     "text": [
      "(1, 21)\n",
      "Value is not even\n",
      "(1, 21)\n",
      "(1, 21)\n",
      "Value is not even\n",
      "(1, 21)\n",
      "(3, 7)\n",
      "Value is not even\n",
      "(3, 7)\n",
      "Value is not even\n",
      "(3, 7)\n",
      "Value is not even\n",
      "(1, 21)\n",
      "(3, 7)\n",
      "Value is not even\n",
      "Value is not even\n"
     ]
    }
   ],
   "source": [
    "for i in counts:\n",
    "    # Reverses order of qubits as in q circuits its ordered opposite way round compared to normal bits, turns binary to denary\n",
    "    measuredValue = int(i[::-1], 2)\n",
    "\n",
    "    if measuredValue % 2 != 0:\n",
    "        # Needs to be even so it can be divided by 2\n",
    "        print(\"Value is not even\")\n",
    "        continue\n",
    "    # a^(p/2) +- 1 = number that shares factors with N\n",
    "    y = int((a ** (measuredValue/2)) % N)\n",
    "    if (y + 1) % N == 0:\n",
    "        continue\n",
    "    \n",
    "    factors = gcd(y + 1, N), gcd(y - 1, N)\n",
    "    print(factors)"
   ]
  },
  {
   "cell_type": "code",
   "execution_count": 6,
   "id": "ae1936da",
   "metadata": {},
   "outputs": [
    {
     "name": "stdout",
     "output_type": "stream",
     "text": [
      "[1, 3, 7, 21]\n"
     ]
    }
   ],
   "source": [
    "uniqueFactors = []  # List to store unique factors\n",
    "\n",
    "for i in counts:\n",
    "    measuredValue = int(i[::-1], 2)\n",
    "    \n",
    "    if measuredValue % 2 != 0:\n",
    "        continue\n",
    "    \n",
    "    x = int((a ** (measuredValue / 2)) % N)\n",
    "    \n",
    "    if (x + 1) % N == 0:\n",
    "        continue\n",
    "    \n",
    "    factor1 = gcd(x + 1, N)\n",
    "    factor2 = gcd(x - 1, N)\n",
    "    \n",
    "    # Add factors to list if they are not in already\n",
    "    if factor1 not in uniqueFactors:\n",
    "        uniqueFactors.append(factor1)\n",
    "    if factor2 not in uniqueFactors:\n",
    "        uniqueFactors.append(factor2)\n",
    "\n",
    "uniqueFactors.sort()\n",
    "\n",
    "print(uniqueFactors)\n"
   ]
  },
  {
   "cell_type": "code",
   "execution_count": 7,
   "id": "f2387bea",
   "metadata": {},
   "outputs": [
    {
     "name": "stdout",
     "output_type": "stream",
     "text": [
      "The prime factors for 21 are 3 and 7\n"
     ]
    }
   ],
   "source": [
    "if len(uniqueFactors) == 4:\n",
    "    print(\"The prime factors for\",N,\"are\",uniqueFactors[1],\"and\",uniqueFactors[2])\n",
    "    \n",
    "elif len(uniqueFactors) == 3:\n",
    "    secFactor = N/uniqueFactors[1]\n",
    "    print(\"The prime factors for\",N,\"are\",uniqueFactors[1],\"and\",secFactor)\n",
    "else:\n",
    "    print(\"Use another value for a\")"
   ]
  },
  {
   "cell_type": "code",
   "execution_count": null,
   "id": "ddd376b9",
   "metadata": {},
   "outputs": [],
   "source": []
  }
 ],
 "metadata": {
  "kernelspec": {
   "display_name": "Python 3 (ipykernel)",
   "language": "python",
   "name": "python3"
  },
  "language_info": {
   "codemirror_mode": {
    "name": "ipython",
    "version": 3
   },
   "file_extension": ".py",
   "mimetype": "text/x-python",
   "name": "python",
   "nbconvert_exporter": "python",
   "pygments_lexer": "ipython3",
   "version": "3.10.9"
  }
 },
 "nbformat": 4,
 "nbformat_minor": 5
}
